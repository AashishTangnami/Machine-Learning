{
 "cells": [
  {
   "cell_type": "markdown",
   "metadata": {},
   "source": [
    "\n",
    "#### Linear Regression \n",
    "\n",
    "Variables:\n",
    "1. Dependent Variables - These variables value depend upon other variables (effect). #### variation of dependent variables is being studied in the linear regression while independent variables change.\n",
    "2. Independent Variables - They do not depend upon other variables (cause).\n",
    "\n",
    "- The most common input variables is X.\n",
    "- The most common output variables is Y.\n",
    "\n",
    "- In Chart comparison Chart\n",
    "    - x-axis -> independent variables\n",
    "    - y-axis -> dependent variables\n",
    "\n",
    "It is basically a predictive analysis. It is linear approach for modelling the relationship between a scalar response and one or more explanatory variables ( dependent and independent variables).\n",
    "The goal of linear regression:\n",
    "    - Prediction\n",
    "    - Forecasting\n",
    "    - Error reduction\n",
    "    - Quantify the strength of relation between explanatory variables.\n"
   ]
  }
 ],
 "metadata": {
  "language_info": {
   "name": "python"
  },
  "orig_nbformat": 4
 },
 "nbformat": 4,
 "nbformat_minor": 2
}
