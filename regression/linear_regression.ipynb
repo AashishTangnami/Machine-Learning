{
 "cells": [
  {
   "cell_type": "markdown",
   "metadata": {},
   "source": [
    "\n",
    "#### Linear Regression \n",
    "\n",
    "Variables:\n",
    "1. Dependent Variables - These variables value depend upon other variables (effect). #### variation of dependent variables is being studied in the linear regression while independent variables change.\n",
    "2. Independent Variables - They do not depend upon other variables (cause).\n",
    "\n",
    "- The most common input variables is X.\n",
    "- The most common output variables is Y.\n",
    "\n",
    "- In Chart comparison Chart\n",
    "    - x-axis -> independent variables\n",
    "    - y-axis -> dependent variables\n",
    "\n",
    "It is basically a predictive analysis. It is linear approach for modelling the relationship between a scalar response and one or more explanatory variables ( dependent and independent variables).\n",
    "The goal of linear regression:\n",
    "    - Prediction\n",
    "    - Forecasting\n",
    "    - Error reduction\n",
    "    - Quantify the strength of relation between explanatory variables.\n"
   ]
  }
 ],
 "metadata": {
  "kernelspec": {
   "display_name": "Python 3.9.13 64-bit",
   "language": "python",
   "name": "python3"
  },
  "language_info": {
   "codemirror_mode": {
    "name": "ipython",
    "version": 3
   },
   "file_extension": ".py",
   "mimetype": "text/x-python",
   "name": "python",
   "nbconvert_exporter": "python",
   "pygments_lexer": "ipython3",
   "version": "3.9.13"
  },
  "orig_nbformat": 4,
  "vscode": {
   "interpreter": {
    "hash": "b0fa6594d8f4cbf19f97940f81e996739fb7646882a419484c72d19e05852a7e"
   }
  }
 },
 "nbformat": 4,
 "nbformat_minor": 2
}
